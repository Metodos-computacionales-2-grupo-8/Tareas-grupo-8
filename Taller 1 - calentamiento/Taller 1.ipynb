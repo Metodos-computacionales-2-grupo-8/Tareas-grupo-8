{
 "cells": [
  {
   "cell_type": "markdown",
   "id": "e1df98fc",
   "metadata": {},
   "source": [
    "Prueba de cambio\n"
   ]
  }
 ],
 "metadata": {
  "language_info": {
   "name": "python"
  }
 },
 "nbformat": 4,
 "nbformat_minor": 5
}
